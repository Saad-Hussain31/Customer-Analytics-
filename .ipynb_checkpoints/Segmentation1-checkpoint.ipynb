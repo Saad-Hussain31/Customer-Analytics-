{
 "cells": [
  {
   "cell_type": "code",
   "execution_count": null,
   "metadata": {},
   "outputs": [],
   "source": [
    "import numpy as np\n",
    "import pandas as pd\n",
    "import scipy\n",
    "import matplotlib.pyplot as plt\n",
    "import seaborn as sns #seaborn is a skin to matplotlib...theyre highly ontgrated\n",
    "sns.set()\n",
    "\n",
    "from sklearn.preprocessing import StandardScaler"
   ]
  },
  {
   "cell_type": "markdown",
   "metadata": {},
   "source": [
    "# DATA EXPLORATION"
   ]
  },
  {
   "cell_type": "code",
   "execution_count": null,
   "metadata": {},
   "outputs": [],
   "source": [
    "df_segmentation = pd.read_csv(\"segmentation data.csv\" , index_col=0)"
   ]
  },
  {
   "cell_type": "code",
   "execution_count": null,
   "metadata": {},
   "outputs": [],
   "source": [
    "df_segmentation.head()"
   ]
  },
  {
   "cell_type": "code",
   "execution_count": null,
   "metadata": {},
   "outputs": [],
   "source": [
    "df_segmentation.describe()"
   ]
  },
  {
   "cell_type": "code",
   "execution_count": null,
   "metadata": {},
   "outputs": [],
   "source": [
    "#pearson correlation (by default in python) \n",
    "# correlation is lnear dependency of two variables\n",
    "df_segmentation.corr()\n",
    "\n",
    "# hard to understand the pattern cz these are numbers only...we prefer visualizaitons---> heat map"
   ]
  },
  {
   "cell_type": "code",
   "execution_count": null,
   "metadata": {},
   "outputs": [],
   "source": [
    "plt.figure(figsize=(12,9))\n",
    "s = sns.heatmap(df_segmentation.corr(),\n",
    "               annot = True,\n",
    "               cmap = 'viridis',\n",
    "               vmin = -1,\n",
    "               vmax = 1)\n",
    "s.set_yticklabels(s.get_yticklabels() , rotation =0, fontsize=12)\n",
    "s.set_xticklabels(s.get_xticklabels() , rotation =90, fontsize=12)\n",
    "plt.title('Correlation Heatmap')\n",
    "plt.show()\n",
    "# explroign corr between features of consumers is the 1st step to identifying consumers and putting them in silimar groups"
   ]
  },
  {
   "cell_type": "code",
   "execution_count": null,
   "metadata": {},
   "outputs": [],
   "source": [
    "plt.figure(figsize= (12,9))\n",
    "plt.scatter(df_segmentation.iloc[:,2], df_segmentation.iloc[:,4])\n",
    "plt.xlabel('Age')\n",
    "plt.ylabel('Income')\n",
    "plt.title('Visualization of raw data')"
   ]
  },
  {
   "cell_type": "markdown",
   "metadata": {},
   "source": [
    "# DATA PREPROCESSING"
   ]
  },
  {
   "cell_type": "code",
   "execution_count": null,
   "metadata": {},
   "outputs": [],
   "source": [
    "# #why standardiztion?\n",
    "# our segmentation models will be based on similarites and differnences of indv consumers on features that charactereize them.\n",
    "\n",
    "# for example: my age is 22 and salary is 20,000 so my model will give importance to 20k bcz it has no context yet. we want\n",
    "# to treat all featurs similarly."
   ]
  },
  {
   "cell_type": "code",
   "execution_count": null,
   "metadata": {},
   "outputs": [],
   "source": [
    "scaler = StandardScaler()\n",
    "segmentation_std = scaler.fit_transform(df_segmentation)"
   ]
  },
  {
   "cell_type": "markdown",
   "metadata": {},
   "source": [
    "# Hierarchical Clustering: Background"
   ]
  }
 ],
 "metadata": {
  "kernelspec": {
   "display_name": "Python 3",
   "language": "python",
   "name": "python3"
  },
  "language_info": {
   "codemirror_mode": {
    "name": "ipython",
    "version": 3
   },
   "file_extension": ".py",
   "mimetype": "text/x-python",
   "name": "python",
   "nbconvert_exporter": "python",
   "pygments_lexer": "ipython3",
   "version": "3.6.5"
  }
 },
 "nbformat": 4,
 "nbformat_minor": 2
}
